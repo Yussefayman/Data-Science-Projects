{
 "cells": [
  {
   "cell_type": "markdown",
   "metadata": {},
   "source": [
    "## Notebook Name: Baseline Competition.<BR>\n",
    "## by: Abhishek Thakur\n"
   ]
  },
  {
   "cell_type": "markdown",
   "metadata": {},
   "source": [
    "## Imports"
   ]
  },
  {
   "cell_type": "code",
   "execution_count": 14,
   "metadata": {},
   "outputs": [],
   "source": [
    "import pandas as pd\n",
    "import numpy as np\n",
    "\n",
    "from sklearn.preprocessing import OrdinalEncoder\n",
    "from sklearn.model_selection import train_test_split\n",
    "from sklearn.ensemble import RandomForestRegressor\n",
    "from sklearn.metrics import mean_squared_error\n",
    "from xgboost import XGBRegressor\n",
    "import warnings\n",
    "warnings.filterwarnings(\"ignore\")\n"
   ]
  },
  {
   "cell_type": "markdown",
   "metadata": {},
   "source": [
    "## Load Data"
   ]
  },
  {
   "cell_type": "code",
   "execution_count": 15,
   "metadata": {},
   "outputs": [],
   "source": [
    "df_train = pd.read_csv('../30Days-ML/train_folds.csv',index_col=0)\n",
    "df_test = pd.read_csv('../30Days-ML/test.csv',index_col = 0)\n",
    "sample_submission = pd.read_csv('../30Days-ML/sample_submission.csv')"
   ]
  },
  {
   "cell_type": "markdown",
   "metadata": {},
   "source": [
    "## Picking up categorical and useful columns"
   ]
  },
  {
   "cell_type": "code",
   "execution_count": 16,
   "metadata": {},
   "outputs": [],
   "source": [
    "useful_features = [c for c in df_train.columns if c not in ('id','target','kfold')]\n",
    "obj_cols = [c for c in df_train.columns if 'cat' in c]\n",
    "df_test = df_test[useful_features]"
   ]
  },
  {
   "cell_type": "markdown",
   "metadata": {},
   "source": [
    "## Training folds loop"
   ]
  },
  {
   "cell_type": "code",
   "execution_count": 17,
   "metadata": {},
   "outputs": [
    {
     "name": "stdout",
     "output_type": "stream",
     "text": [
      "0 => 0.7242812912900478\n",
      "1 => 0.7232810321072864\n",
      "2 => 0.725452249623988\n",
      "3 => 0.725286377838993\n",
      "4 => 0.7242629367174095\n"
     ]
    }
   ],
   "source": [
    "final_prediction = []\n",
    "for fold in range(5):\n",
    "    # Data handling\n",
    "    xtrain = df_train[df_train.kfold != fold].reset_index(drop=True)\n",
    "    xvalid = df_train[df_train.kfold == fold].reset_index(drop=True)\n",
    "    x_test = df_test.copy()\n",
    "    \n",
    "    ytrain = xtrain.target\n",
    "    yvalid = xvalid.target\n",
    "\n",
    "    xtrain = xtrain[useful_features]\n",
    "    xvalid = xvalid[useful_features]\n",
    "\n",
    "    # Preprocessing\n",
    "    ord_encoder = OrdinalEncoder()\n",
    "    xtrain[obj_cols] = ord_encoder.fit_transform(xtrain[obj_cols])\n",
    "    xvalid[obj_cols] = ord_encoder.transform(xvalid[obj_cols])\n",
    "    x_test[obj_cols] = ord_encoder.transform(x_test[obj_cols])\n",
    "\n",
    "    # Training model\n",
    "    model = XGBRegressor(random_state=fold,n_jobs = -1)\n",
    "    model.fit(xtrain,ytrain)\n",
    "    \n",
    "    # Model Prediction\n",
    "    valid_preds = model.predict(xvalid)\n",
    "    test_preds = model.predict(x_test)\n",
    "    final_prediction.append(test_preds)\n",
    "    \n",
    "    print(fold,\"=>\",mean_squared_error(yvalid,valid_preds,squared=False))\n",
    "\n",
    "\n",
    "\n"
   ]
  },
  {
   "cell_type": "markdown",
   "metadata": {},
   "source": [
    "## Average of the stacked test prediction of folds"
   ]
  },
  {
   "cell_type": "code",
   "execution_count": null,
   "metadata": {},
   "outputs": [],
   "source": [
    "test_preds = np.mean(np.column_stack(final_prediction),axis = 1)\n",
    "sample_submission.target = test_preds\n",
    "sample_submission.to_csv('submission.csv',index=False)\n"
   ]
  }
 ],
 "metadata": {
  "kernelspec": {
   "display_name": "Python 3.10.6 ('tabular-ds')",
   "language": "python",
   "name": "python3"
  },
  "language_info": {
   "codemirror_mode": {
    "name": "ipython",
    "version": 3
   },
   "file_extension": ".py",
   "mimetype": "text/x-python",
   "name": "python",
   "nbconvert_exporter": "python",
   "pygments_lexer": "ipython3",
   "version": "3.10.6"
  },
  "orig_nbformat": 4,
  "vscode": {
   "interpreter": {
    "hash": "90f25bca5f0e02906c32171d2dfdcae51d4e9ae2d02a9cef0aa8b5c0c8a4f68a"
   }
  }
 },
 "nbformat": 4,
 "nbformat_minor": 2
}
