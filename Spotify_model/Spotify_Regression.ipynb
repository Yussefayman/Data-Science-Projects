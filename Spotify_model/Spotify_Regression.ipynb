{
 "cells": [
  {
   "cell_type": "markdown",
   "metadata": {},
   "source": [
    "# Imports"
   ]
  },
  {
   "cell_type": "code",
   "execution_count": 91,
   "metadata": {},
   "outputs": [],
   "source": [
    "import numpy as np \n",
    "import pandas as pd\n",
    "from pandas_profiling import ProfileReport\n",
    "from sklearn.ensemble import RandomForestRegressor\n",
    "from sklearn.linear_model import LinearRegression\n",
    "from sklearn.model_selection import train_test_split\n",
    "from sklearn.preprocessing import LabelEncoder,OneHotEncoder\n",
    "from sklearn.preprocessing import MultiLabelBinarizer\n",
    "from sklearn import metrics\n",
    "from xgboost import XGBRegressor\n",
    "import matplotlib.pyplot as plt\n",
    "import seaborn as sns\n",
    "import re\n",
    "from sklearn import preprocessing\n",
    "import pickle as pickle_rick"
   ]
  },
  {
   "cell_type": "markdown",
   "metadata": {},
   "source": [
    "# Data reading"
   ]
  },
  {
   "cell_type": "code",
   "execution_count": 92,
   "metadata": {},
   "outputs": [
    {
     "name": "stdout",
     "output_type": "stream",
     "text": [
      "Wall time: 4.93 s\n"
     ]
    }
   ],
   "source": [
    "%time df = pd.read_csv('C:\\\\Users\\\\Yousef\\\\Desktop\\\\ml\\\\ML_Dataset\\\\spotify_training.csv',parse_dates = ['release_date'])"
   ]
  },
  {
   "cell_type": "code",
   "execution_count": 93,
   "metadata": {},
   "outputs": [
    {
     "data": {
      "text/html": [
       "<div>\n",
       "<style scoped>\n",
       "    .dataframe tbody tr th:only-of-type {\n",
       "        vertical-align: middle;\n",
       "    }\n",
       "\n",
       "    .dataframe tbody tr th {\n",
       "        vertical-align: top;\n",
       "    }\n",
       "\n",
       "    .dataframe thead th {\n",
       "        text-align: right;\n",
       "    }\n",
       "</style>\n",
       "<table border=\"1\" class=\"dataframe\">\n",
       "  <thead>\n",
       "    <tr style=\"text-align: right;\">\n",
       "      <th></th>\n",
       "      <th>valence</th>\n",
       "      <th>year</th>\n",
       "      <th>acousticness</th>\n",
       "      <th>artists</th>\n",
       "      <th>danceability</th>\n",
       "      <th>duration_ms</th>\n",
       "      <th>energy</th>\n",
       "      <th>explicit</th>\n",
       "      <th>id</th>\n",
       "      <th>instrumentalness</th>\n",
       "      <th>key</th>\n",
       "      <th>liveness</th>\n",
       "      <th>loudness</th>\n",
       "      <th>mode</th>\n",
       "      <th>name</th>\n",
       "      <th>tempo</th>\n",
       "      <th>release_date</th>\n",
       "      <th>speechiness</th>\n",
       "      <th>popularity</th>\n",
       "    </tr>\n",
       "  </thead>\n",
       "  <tbody>\n",
       "    <tr>\n",
       "      <th>0</th>\n",
       "      <td>0.184</td>\n",
       "      <td>2019.0</td>\n",
       "      <td>0.43400</td>\n",
       "      <td>['Swavay']</td>\n",
       "      <td>0.783</td>\n",
       "      <td>198577.0</td>\n",
       "      <td>0.3410</td>\n",
       "      <td>1.0</td>\n",
       "      <td>3g3RCV5ImXwzHpKwM2iunc</td>\n",
       "      <td>0.000098</td>\n",
       "      <td>7.0</td>\n",
       "      <td>0.3620</td>\n",
       "      <td>-12.353</td>\n",
       "      <td>1.0</td>\n",
       "      <td>2:00 AM</td>\n",
       "      <td>126.799</td>\n",
       "      <td>2019-05-24</td>\n",
       "      <td>0.0727</td>\n",
       "      <td>58</td>\n",
       "    </tr>\n",
       "    <tr>\n",
       "      <th>1</th>\n",
       "      <td>0.615</td>\n",
       "      <td>2019.0</td>\n",
       "      <td>0.02670</td>\n",
       "      <td>['KAYTRANADA', 'Kali Uchis']</td>\n",
       "      <td>0.794</td>\n",
       "      <td>186680.0</td>\n",
       "      <td>0.7570</td>\n",
       "      <td>1.0</td>\n",
       "      <td>41SwdQIX8Hy2u6fuEDgvWr</td>\n",
       "      <td>0.000306</td>\n",
       "      <td>6.0</td>\n",
       "      <td>0.0621</td>\n",
       "      <td>-6.644</td>\n",
       "      <td>0.0</td>\n",
       "      <td>10%</td>\n",
       "      <td>107.990</td>\n",
       "      <td>2019-12-13</td>\n",
       "      <td>0.1230</td>\n",
       "      <td>68</td>\n",
       "    </tr>\n",
       "    <tr>\n",
       "      <th>2</th>\n",
       "      <td>0.368</td>\n",
       "      <td>1997.0</td>\n",
       "      <td>0.78200</td>\n",
       "      <td>['Elliott Smith']</td>\n",
       "      <td>0.489</td>\n",
       "      <td>198973.0</td>\n",
       "      <td>0.0858</td>\n",
       "      <td>0.0</td>\n",
       "      <td>53q5m5Bpkr1Pin7mPKQxMi</td>\n",
       "      <td>0.000109</td>\n",
       "      <td>4.0</td>\n",
       "      <td>0.1110</td>\n",
       "      <td>-20.465</td>\n",
       "      <td>0.0</td>\n",
       "      <td>2:45 AM</td>\n",
       "      <td>167.284</td>\n",
       "      <td>1997-02-25</td>\n",
       "      <td>0.0432</td>\n",
       "      <td>38</td>\n",
       "    </tr>\n",
       "    <tr>\n",
       "      <th>3</th>\n",
       "      <td>0.199</td>\n",
       "      <td>2017.0</td>\n",
       "      <td>0.00306</td>\n",
       "      <td>['Casey Donahew']</td>\n",
       "      <td>0.295</td>\n",
       "      <td>272787.0</td>\n",
       "      <td>0.6630</td>\n",
       "      <td>0.0</td>\n",
       "      <td>6LjvqlPeCj62wF4oPJ6XOe</td>\n",
       "      <td>0.000000</td>\n",
       "      <td>7.0</td>\n",
       "      <td>0.1140</td>\n",
       "      <td>-5.253</td>\n",
       "      <td>1.0</td>\n",
       "      <td>3:00 AM</td>\n",
       "      <td>100.010</td>\n",
       "      <td>2017-10-06</td>\n",
       "      <td>0.0337</td>\n",
       "      <td>57</td>\n",
       "    </tr>\n",
       "    <tr>\n",
       "      <th>4</th>\n",
       "      <td>0.539</td>\n",
       "      <td>2018.0</td>\n",
       "      <td>0.38500</td>\n",
       "      <td>['Bazzi']</td>\n",
       "      <td>0.651</td>\n",
       "      <td>167019.0</td>\n",
       "      <td>0.6540</td>\n",
       "      <td>1.0</td>\n",
       "      <td>6pmZMP2ET1OJi5rKfLO8jD</td>\n",
       "      <td>0.000000</td>\n",
       "      <td>1.0</td>\n",
       "      <td>0.1810</td>\n",
       "      <td>-5.481</td>\n",
       "      <td>1.0</td>\n",
       "      <td>3:15</td>\n",
       "      <td>141.975</td>\n",
       "      <td>2018-04-12</td>\n",
       "      <td>0.0466</td>\n",
       "      <td>70</td>\n",
       "    </tr>\n",
       "  </tbody>\n",
       "</table>\n",
       "</div>"
      ],
      "text/plain": [
       "   valence    year  acousticness                       artists  danceability  \\\n",
       "0    0.184  2019.0       0.43400                    ['Swavay']         0.783   \n",
       "1    0.615  2019.0       0.02670  ['KAYTRANADA', 'Kali Uchis']         0.794   \n",
       "2    0.368  1997.0       0.78200             ['Elliott Smith']         0.489   \n",
       "3    0.199  2017.0       0.00306             ['Casey Donahew']         0.295   \n",
       "4    0.539  2018.0       0.38500                     ['Bazzi']         0.651   \n",
       "\n",
       "   duration_ms  energy  explicit                      id  instrumentalness  \\\n",
       "0     198577.0  0.3410       1.0  3g3RCV5ImXwzHpKwM2iunc          0.000098   \n",
       "1     186680.0  0.7570       1.0  41SwdQIX8Hy2u6fuEDgvWr          0.000306   \n",
       "2     198973.0  0.0858       0.0  53q5m5Bpkr1Pin7mPKQxMi          0.000109   \n",
       "3     272787.0  0.6630       0.0  6LjvqlPeCj62wF4oPJ6XOe          0.000000   \n",
       "4     167019.0  0.6540       1.0  6pmZMP2ET1OJi5rKfLO8jD          0.000000   \n",
       "\n",
       "   key  liveness  loudness  mode     name    tempo release_date  speechiness  \\\n",
       "0  7.0    0.3620   -12.353   1.0  2:00 AM  126.799   2019-05-24       0.0727   \n",
       "1  6.0    0.0621    -6.644   0.0      10%  107.990   2019-12-13       0.1230   \n",
       "2  4.0    0.1110   -20.465   0.0  2:45 AM  167.284   1997-02-25       0.0432   \n",
       "3  7.0    0.1140    -5.253   1.0  3:00 AM  100.010   2017-10-06       0.0337   \n",
       "4  1.0    0.1810    -5.481   1.0     3:15  141.975   2018-04-12       0.0466   \n",
       "\n",
       "   popularity  \n",
       "0          58  \n",
       "1          68  \n",
       "2          38  \n",
       "3          57  \n",
       "4          70  "
      ]
     },
     "execution_count": 93,
     "metadata": {},
     "output_type": "execute_result"
    }
   ],
   "source": [
    "df.head()"
   ]
  },
  {
   "cell_type": "markdown",
   "metadata": {},
   "source": [
    "# Data Exploration\n"
   ]
  },
  {
   "cell_type": "code",
   "execution_count": 94,
   "metadata": {},
   "outputs": [],
   "source": [
    "#pandas_profile = ProfileReport(df, title='Song Pop Profiling Report', explorative = True)\n",
    "#pandas_profile.to_file(\"SongPop.html\")"
   ]
  },
  {
   "cell_type": "code",
   "execution_count": 95,
   "metadata": {},
   "outputs": [],
   "source": [
    "#df.info()"
   ]
  },
  {
   "cell_type": "code",
   "execution_count": 96,
   "metadata": {},
   "outputs": [
    {
     "name": "stdout",
     "output_type": "stream",
     "text": [
      "name has 95654 unique values\n",
      "artists has 26731 unique values\n",
      "key has 12 unique values\n"
     ]
    }
   ],
   "source": [
    "categorical_cols = ['name','artists','key']\n",
    "\n",
    "def unique_vals(dataframe,cat_cols):\n",
    "    for c in cat_cols:\n",
    "        print(\"{col} has {unique_val} unique values\".format(col = c , unique_val = dataframe[c].nunique()))\n",
    "\n",
    "unique_vals(df,categorical_cols)\n",
    "\n"
   ]
  },
  {
   "cell_type": "code",
   "execution_count": 97,
   "metadata": {},
   "outputs": [],
   "source": [
    "df.duplicated().sum()\n",
    "df = df[~df.duplicated()==1]"
   ]
  },
  {
   "cell_type": "code",
   "execution_count": 98,
   "metadata": {},
   "outputs": [
    {
     "data": {
      "text/plain": [
       "valence              133\n",
       "year                 109\n",
       "acousticness          84\n",
       "artists              209\n",
       "danceability          84\n",
       "duration_ms          614\n",
       "energy                84\n",
       "explicit              84\n",
       "id                   350\n",
       "instrumentalness      84\n",
       "key                   84\n",
       "liveness              84\n",
       "loudness              84\n",
       "mode                  84\n",
       "name                1478\n",
       "tempo                 84\n",
       "release_date         422\n",
       "speechiness           84\n",
       "popularity             0\n",
       "dtype: int64"
      ]
     },
     "execution_count": 98,
     "metadata": {},
     "output_type": "execute_result"
    }
   ],
   "source": [
    "def dataframe_nulls(dataframe):\n",
    "    return dataframe.isnull().sum()\n",
    "dataframe_nulls(df)\n",
    "#df.dropna(axis=0,inplace=True)"
   ]
  },
  {
   "cell_type": "code",
   "execution_count": 99,
   "metadata": {},
   "outputs": [
    {
     "data": {
      "text/html": [
       "<div>\n",
       "<style scoped>\n",
       "    .dataframe tbody tr th:only-of-type {\n",
       "        vertical-align: middle;\n",
       "    }\n",
       "\n",
       "    .dataframe tbody tr th {\n",
       "        vertical-align: top;\n",
       "    }\n",
       "\n",
       "    .dataframe thead th {\n",
       "        text-align: right;\n",
       "    }\n",
       "</style>\n",
       "<table border=\"1\" class=\"dataframe\">\n",
       "  <thead>\n",
       "    <tr style=\"text-align: right;\">\n",
       "      <th></th>\n",
       "      <th>valence</th>\n",
       "      <th>year</th>\n",
       "      <th>acousticness</th>\n",
       "      <th>artists</th>\n",
       "      <th>danceability</th>\n",
       "      <th>duration_ms</th>\n",
       "      <th>energy</th>\n",
       "      <th>explicit</th>\n",
       "      <th>id</th>\n",
       "      <th>instrumentalness</th>\n",
       "      <th>key</th>\n",
       "      <th>liveness</th>\n",
       "      <th>loudness</th>\n",
       "      <th>mode</th>\n",
       "      <th>name</th>\n",
       "      <th>tempo</th>\n",
       "      <th>release_date</th>\n",
       "      <th>speechiness</th>\n",
       "      <th>popularity</th>\n",
       "    </tr>\n",
       "  </thead>\n",
       "  <tbody>\n",
       "    <tr>\n",
       "      <th>0</th>\n",
       "      <td>0.184</td>\n",
       "      <td>2019.0</td>\n",
       "      <td>0.43400</td>\n",
       "      <td>['Swavay']</td>\n",
       "      <td>0.783</td>\n",
       "      <td>198577.0</td>\n",
       "      <td>0.3410</td>\n",
       "      <td>1.0</td>\n",
       "      <td>3g3RCV5ImXwzHpKwM2iunc</td>\n",
       "      <td>0.000098</td>\n",
       "      <td>7.0</td>\n",
       "      <td>0.3620</td>\n",
       "      <td>-12.353</td>\n",
       "      <td>1.0</td>\n",
       "      <td>2:00 AM</td>\n",
       "      <td>126.799</td>\n",
       "      <td>2019-05-24</td>\n",
       "      <td>0.0727</td>\n",
       "      <td>58</td>\n",
       "    </tr>\n",
       "    <tr>\n",
       "      <th>1</th>\n",
       "      <td>0.615</td>\n",
       "      <td>2019.0</td>\n",
       "      <td>0.02670</td>\n",
       "      <td>['KAYTRANADA', 'Kali Uchis']</td>\n",
       "      <td>0.794</td>\n",
       "      <td>186680.0</td>\n",
       "      <td>0.7570</td>\n",
       "      <td>1.0</td>\n",
       "      <td>41SwdQIX8Hy2u6fuEDgvWr</td>\n",
       "      <td>0.000306</td>\n",
       "      <td>6.0</td>\n",
       "      <td>0.0621</td>\n",
       "      <td>-6.644</td>\n",
       "      <td>0.0</td>\n",
       "      <td>10%</td>\n",
       "      <td>107.990</td>\n",
       "      <td>2019-12-13</td>\n",
       "      <td>0.1230</td>\n",
       "      <td>68</td>\n",
       "    </tr>\n",
       "    <tr>\n",
       "      <th>2</th>\n",
       "      <td>0.368</td>\n",
       "      <td>1997.0</td>\n",
       "      <td>0.78200</td>\n",
       "      <td>['Elliott Smith']</td>\n",
       "      <td>0.489</td>\n",
       "      <td>198973.0</td>\n",
       "      <td>0.0858</td>\n",
       "      <td>0.0</td>\n",
       "      <td>53q5m5Bpkr1Pin7mPKQxMi</td>\n",
       "      <td>0.000109</td>\n",
       "      <td>4.0</td>\n",
       "      <td>0.1110</td>\n",
       "      <td>-20.465</td>\n",
       "      <td>0.0</td>\n",
       "      <td>2:45 AM</td>\n",
       "      <td>167.284</td>\n",
       "      <td>1997-02-25</td>\n",
       "      <td>0.0432</td>\n",
       "      <td>38</td>\n",
       "    </tr>\n",
       "    <tr>\n",
       "      <th>3</th>\n",
       "      <td>0.199</td>\n",
       "      <td>2017.0</td>\n",
       "      <td>0.00306</td>\n",
       "      <td>['Casey Donahew']</td>\n",
       "      <td>0.295</td>\n",
       "      <td>272787.0</td>\n",
       "      <td>0.6630</td>\n",
       "      <td>0.0</td>\n",
       "      <td>6LjvqlPeCj62wF4oPJ6XOe</td>\n",
       "      <td>0.000000</td>\n",
       "      <td>7.0</td>\n",
       "      <td>0.1140</td>\n",
       "      <td>-5.253</td>\n",
       "      <td>1.0</td>\n",
       "      <td>3:00 AM</td>\n",
       "      <td>100.010</td>\n",
       "      <td>2017-10-06</td>\n",
       "      <td>0.0337</td>\n",
       "      <td>57</td>\n",
       "    </tr>\n",
       "    <tr>\n",
       "      <th>4</th>\n",
       "      <td>0.539</td>\n",
       "      <td>2018.0</td>\n",
       "      <td>0.38500</td>\n",
       "      <td>['Bazzi']</td>\n",
       "      <td>0.651</td>\n",
       "      <td>167019.0</td>\n",
       "      <td>0.6540</td>\n",
       "      <td>1.0</td>\n",
       "      <td>6pmZMP2ET1OJi5rKfLO8jD</td>\n",
       "      <td>0.000000</td>\n",
       "      <td>1.0</td>\n",
       "      <td>0.1810</td>\n",
       "      <td>-5.481</td>\n",
       "      <td>1.0</td>\n",
       "      <td>3:15</td>\n",
       "      <td>141.975</td>\n",
       "      <td>2018-04-12</td>\n",
       "      <td>0.0466</td>\n",
       "      <td>70</td>\n",
       "    </tr>\n",
       "  </tbody>\n",
       "</table>\n",
       "</div>"
      ],
      "text/plain": [
       "   valence    year  acousticness                       artists  danceability  \\\n",
       "0    0.184  2019.0       0.43400                    ['Swavay']         0.783   \n",
       "1    0.615  2019.0       0.02670  ['KAYTRANADA', 'Kali Uchis']         0.794   \n",
       "2    0.368  1997.0       0.78200             ['Elliott Smith']         0.489   \n",
       "3    0.199  2017.0       0.00306             ['Casey Donahew']         0.295   \n",
       "4    0.539  2018.0       0.38500                     ['Bazzi']         0.651   \n",
       "\n",
       "   duration_ms  energy  explicit                      id  instrumentalness  \\\n",
       "0     198577.0  0.3410       1.0  3g3RCV5ImXwzHpKwM2iunc          0.000098   \n",
       "1     186680.0  0.7570       1.0  41SwdQIX8Hy2u6fuEDgvWr          0.000306   \n",
       "2     198973.0  0.0858       0.0  53q5m5Bpkr1Pin7mPKQxMi          0.000109   \n",
       "3     272787.0  0.6630       0.0  6LjvqlPeCj62wF4oPJ6XOe          0.000000   \n",
       "4     167019.0  0.6540       1.0  6pmZMP2ET1OJi5rKfLO8jD          0.000000   \n",
       "\n",
       "   key  liveness  loudness  mode     name    tempo release_date  speechiness  \\\n",
       "0  7.0    0.3620   -12.353   1.0  2:00 AM  126.799   2019-05-24       0.0727   \n",
       "1  6.0    0.0621    -6.644   0.0      10%  107.990   2019-12-13       0.1230   \n",
       "2  4.0    0.1110   -20.465   0.0  2:45 AM  167.284   1997-02-25       0.0432   \n",
       "3  7.0    0.1140    -5.253   1.0  3:00 AM  100.010   2017-10-06       0.0337   \n",
       "4  1.0    0.1810    -5.481   1.0     3:15  141.975   2018-04-12       0.0466   \n",
       "\n",
       "   popularity  \n",
       "0          58  \n",
       "1          68  \n",
       "2          38  \n",
       "3          57  \n",
       "4          70  "
      ]
     },
     "execution_count": 99,
     "metadata": {},
     "output_type": "execute_result"
    }
   ],
   "source": [
    "df.head()"
   ]
  },
  {
   "cell_type": "markdown",
   "metadata": {},
   "source": [
    "# Fill missing values"
   ]
  },
  {
   "cell_type": "code",
   "execution_count": 100,
   "metadata": {},
   "outputs": [],
   "source": [
    "def fill_missing_values(df):\n",
    "    df['valence'].fillna(df['valence'].median(),inplace=True)\n",
    "    df['year'].fillna(df['year'].mean(),inplace=True)\n",
    "    df['acousticness'].fillna(df['acousticness'].median(),inplace=True)\n",
    "    df['danceability'].fillna(df['danceability'].median(),inplace=True)\n",
    "    df['duration_ms'].fillna(df['duration_ms'].median(),inplace=True)\n",
    "    df['energy'].fillna(df['energy'].mean(),inplace=True)\n",
    "    df['explicit'].fillna(0,inplace=True)\n",
    "    df['id'].fillna(df['id'].mode().iloc[0],inplace=True)\n",
    "    df['instrumentalness'].fillna(df['instrumentalness'].median(),inplace=True)\n",
    "    df['key'].fillna(df['key'].median(),inplace=True)\n",
    "    df['liveness'].fillna(df['liveness'].mean(),inplace=True)\n",
    "    df['loudness'].fillna(df['loudness'].median(),inplace=True)\n",
    "    df['mode'].fillna(0,inplace=True)\n",
    "    df['artists'].fillna(df['artists'].mode().iloc[0],inplace=True)\n",
    "    df['name'].fillna(df['name'].mode().iloc[0],inplace=True)\n",
    "    df['tempo'].fillna(df['tempo'].median(),inplace=True)\n",
    "    df['release_date'].fillna(df['release_date'].mode().iloc[0],inplace=True)\n",
    "    df['speechiness'].fillna(df['speechiness'].median(),inplace=True)\n",
    "    \n",
    "fill_missing_values(df)"
   ]
  },
  {
   "cell_type": "code",
   "execution_count": null,
   "metadata": {},
   "outputs": [],
   "source": []
  },
  {
   "cell_type": "code",
   "execution_count": 101,
   "metadata": {},
   "outputs": [],
   "source": [
    "def feature_encoder(df,cols):\n",
    "    for c in cols:\n",
    "        lbl = LabelEncoder()\n",
    "        lbl.fit(list(df[c].values))\n",
    "        df[c]=lbl.transform(list(df[c].values))\n",
    "    return df"
   ]
  },
  {
   "cell_type": "code",
   "execution_count": 102,
   "metadata": {},
   "outputs": [
    {
     "data": {
      "text/plain": [
       "Index(['valence', 'year', 'acousticness', 'artists', 'danceability',\n",
       "       'duration_ms', 'energy', 'explicit', 'id', 'instrumentalness', 'key',\n",
       "       'liveness', 'loudness', 'mode', 'name', 'tempo', 'release_date',\n",
       "       'speechiness', 'popularity'],\n",
       "      dtype='object')"
      ]
     },
     "execution_count": 102,
     "metadata": {},
     "output_type": "execute_result"
    }
   ],
   "source": [
    "df.columns"
   ]
  },
  {
   "cell_type": "code",
   "execution_count": 103,
   "metadata": {},
   "outputs": [],
   "source": [
    "def duration_to_minutes(df):\n",
    "    df['duration_m'] = df['duration_ms']/60000\n",
    "    df = df.reindex(sorted(df.columns), axis=1)\n",
    "    df.drop('duration_ms', axis = 1, inplace = True)\n",
    "    return df\n",
    "df = duration_to_minutes(df)"
   ]
  },
  {
   "cell_type": "markdown",
   "metadata": {},
   "source": [
    "# Correlation between numeric values"
   ]
  },
  {
   "cell_type": "code",
   "execution_count": 104,
   "metadata": {
    "scrolled": false
   },
   "outputs": [
    {
     "data": {
      "image/png": "[encoded data removed]",
      "text/plain": [
       "<Figure size 576x576 with 2 Axes>"
      ]
     },
     "metadata": {
      "needs_background": "light"
     },
     "output_type": "display_data"
    }
   ],
   "source": [
    "numeric_cols = df.columns[df.dtypes!='object']\n",
    "numeric_df = pd.DataFrame(df[numeric_cols],columns= numeric_cols)\n",
    "#Graphing matplotlib , seaborn\n",
    "corr = np.abs(numeric_df.corr())\n",
    "fig,ax = plt.subplots(figsize=(8,8))\n",
    "cmap = sns.color_palette('magma')\n",
    "sns.heatmap(corr,cmap = cmap,square=True)\n",
    "plt.title(\"Correlation between numeric values\")\n",
    "plt.show()"
   ]
  },
  {
   "cell_type": "markdown",
   "metadata": {},
   "source": [
    "# Visualization  between highly correlated feature and target"
   ]
  },
  {
   "cell_type": "code",
   "execution_count": 105,
   "metadata": {},
   "outputs": [
    {
     "name": "stdout",
     "output_type": "stream",
     "text": [
      "Wall time: 1.77 s\n"
     ]
    },
    {
     "data": {
      "image/png": "[encoded data removed]",
      "text/plain": [
       "<Figure size 360x360 with 30 Axes>"
      ]
     },
     "metadata": {
      "needs_background": "light"
     },
     "output_type": "display_data"
    }
   ],
   "source": [
    "%time features_plot = sns.pairplot(df.sample(1000),height=1,vars=['year','acousticness','energy','loudness','popularity'])\n",
    "plt.show()"
   ]
  },
  {
   "cell_type": "markdown",
   "metadata": {},
   "source": [
    "# Categorical value with OneHotEncoder\n"
   ]
  },
  {
   "cell_type": "code",
   "execution_count": 106,
   "metadata": {},
   "outputs": [
    {
     "data": {
      "text/html": [
       "<div>\n",
       "<style scoped>\n",
       "    .dataframe tbody tr th:only-of-type {\n",
       "        vertical-align: middle;\n",
       "    }\n",
       "\n",
       "    .dataframe tbody tr th {\n",
       "        vertical-align: top;\n",
       "    }\n",
       "\n",
       "    .dataframe thead th {\n",
       "        text-align: right;\n",
       "    }\n",
       "</style>\n",
       "<table border=\"1\" class=\"dataframe\">\n",
       "  <thead>\n",
       "    <tr style=\"text-align: right;\">\n",
       "      <th></th>\n",
       "      <th>acousticness</th>\n",
       "      <th>artists</th>\n",
       "      <th>danceability</th>\n",
       "      <th>duration_m</th>\n",
       "      <th>energy</th>\n",
       "      <th>explicit</th>\n",
       "      <th>id</th>\n",
       "      <th>instrumentalness</th>\n",
       "      <th>liveness</th>\n",
       "      <th>loudness</th>\n",
       "      <th>...</th>\n",
       "      <th>K_2.0</th>\n",
       "      <th>K_3.0</th>\n",
       "      <th>K_4.0</th>\n",
       "      <th>K_5.0</th>\n",
       "      <th>K_6.0</th>\n",
       "      <th>K_7.0</th>\n",
       "      <th>K_8.0</th>\n",
       "      <th>K_9.0</th>\n",
       "      <th>K_10.0</th>\n",
       "      <th>K_11.0</th>\n",
       "    </tr>\n",
       "  </thead>\n",
       "  <tbody>\n",
       "    <tr>\n",
       "      <th>0</th>\n",
       "      <td>0.43400</td>\n",
       "      <td>['Swavay']</td>\n",
       "      <td>0.783</td>\n",
       "      <td>3.309617</td>\n",
       "      <td>0.3410</td>\n",
       "      <td>1.0</td>\n",
       "      <td>3g3RCV5ImXwzHpKwM2iunc</td>\n",
       "      <td>0.000098</td>\n",
       "      <td>0.3620</td>\n",
       "      <td>-12.353</td>\n",
       "      <td>...</td>\n",
       "      <td>0</td>\n",
       "      <td>0</td>\n",
       "      <td>0</td>\n",
       "      <td>0</td>\n",
       "      <td>0</td>\n",
       "      <td>1</td>\n",
       "      <td>0</td>\n",
       "      <td>0</td>\n",
       "      <td>0</td>\n",
       "      <td>0</td>\n",
       "    </tr>\n",
       "    <tr>\n",
       "      <th>1</th>\n",
       "      <td>0.02670</td>\n",
       "      <td>['KAYTRANADA', 'Kali Uchis']</td>\n",
       "      <td>0.794</td>\n",
       "      <td>3.111333</td>\n",
       "      <td>0.7570</td>\n",
       "      <td>1.0</td>\n",
       "      <td>41SwdQIX8Hy2u6fuEDgvWr</td>\n",
       "      <td>0.000306</td>\n",
       "      <td>0.0621</td>\n",
       "      <td>-6.644</td>\n",
       "      <td>...</td>\n",
       "      <td>0</td>\n",
       "      <td>0</td>\n",
       "      <td>0</td>\n",
       "      <td>0</td>\n",
       "      <td>1</td>\n",
       "      <td>0</td>\n",
       "      <td>0</td>\n",
       "      <td>0</td>\n",
       "      <td>0</td>\n",
       "      <td>0</td>\n",
       "    </tr>\n",
       "    <tr>\n",
       "      <th>2</th>\n",
       "      <td>0.78200</td>\n",
       "      <td>['Elliott Smith']</td>\n",
       "      <td>0.489</td>\n",
       "      <td>3.316217</td>\n",
       "      <td>0.0858</td>\n",
       "      <td>0.0</td>\n",
       "      <td>53q5m5Bpkr1Pin7mPKQxMi</td>\n",
       "      <td>0.000109</td>\n",
       "      <td>0.1110</td>\n",
       "      <td>-20.465</td>\n",
       "      <td>...</td>\n",
       "      <td>0</td>\n",
       "      <td>0</td>\n",
       "      <td>1</td>\n",
       "      <td>0</td>\n",
       "      <td>0</td>\n",
       "      <td>0</td>\n",
       "      <td>0</td>\n",
       "      <td>0</td>\n",
       "      <td>0</td>\n",
       "      <td>0</td>\n",
       "    </tr>\n",
       "    <tr>\n",
       "      <th>3</th>\n",
       "      <td>0.00306</td>\n",
       "      <td>['Casey Donahew']</td>\n",
       "      <td>0.295</td>\n",
       "      <td>4.546450</td>\n",
       "      <td>0.6630</td>\n",
       "      <td>0.0</td>\n",
       "      <td>6LjvqlPeCj62wF4oPJ6XOe</td>\n",
       "      <td>0.000000</td>\n",
       "      <td>0.1140</td>\n",
       "      <td>-5.253</td>\n",
       "      <td>...</td>\n",
       "      <td>0</td>\n",
       "      <td>0</td>\n",
       "      <td>0</td>\n",
       "      <td>0</td>\n",
       "      <td>0</td>\n",
       "      <td>1</td>\n",
       "      <td>0</td>\n",
       "      <td>0</td>\n",
       "      <td>0</td>\n",
       "      <td>0</td>\n",
       "    </tr>\n",
       "    <tr>\n",
       "      <th>4</th>\n",
       "      <td>0.38500</td>\n",
       "      <td>['Bazzi']</td>\n",
       "      <td>0.651</td>\n",
       "      <td>2.783650</td>\n",
       "      <td>0.6540</td>\n",
       "      <td>1.0</td>\n",
       "      <td>6pmZMP2ET1OJi5rKfLO8jD</td>\n",
       "      <td>0.000000</td>\n",
       "      <td>0.1810</td>\n",
       "      <td>-5.481</td>\n",
       "      <td>...</td>\n",
       "      <td>0</td>\n",
       "      <td>0</td>\n",
       "      <td>0</td>\n",
       "      <td>0</td>\n",
       "      <td>0</td>\n",
       "      <td>0</td>\n",
       "      <td>0</td>\n",
       "      <td>0</td>\n",
       "      <td>0</td>\n",
       "      <td>0</td>\n",
       "    </tr>\n",
       "  </tbody>\n",
       "</table>\n",
       "<p>5 rows × 30 columns</p>\n",
       "</div>"
      ],
      "text/plain": [
       "   acousticness                       artists  danceability  duration_m  \\\n",
       "0       0.43400                    ['Swavay']         0.783    3.309617   \n",
       "1       0.02670  ['KAYTRANADA', 'Kali Uchis']         0.794    3.111333   \n",
       "2       0.78200             ['Elliott Smith']         0.489    3.316217   \n",
       "3       0.00306             ['Casey Donahew']         0.295    4.546450   \n",
       "4       0.38500                     ['Bazzi']         0.651    2.783650   \n",
       "\n",
       "   energy  explicit                      id  instrumentalness  liveness  \\\n",
       "0  0.3410       1.0  3g3RCV5ImXwzHpKwM2iunc          0.000098    0.3620   \n",
       "1  0.7570       1.0  41SwdQIX8Hy2u6fuEDgvWr          0.000306    0.0621   \n",
       "2  0.0858       0.0  53q5m5Bpkr1Pin7mPKQxMi          0.000109    0.1110   \n",
       "3  0.6630       0.0  6LjvqlPeCj62wF4oPJ6XOe          0.000000    0.1140   \n",
       "4  0.6540       1.0  6pmZMP2ET1OJi5rKfLO8jD          0.000000    0.1810   \n",
       "\n",
       "   loudness  ...  K_2.0 K_3.0  K_4.0 K_5.0  K_6.0  K_7.0  K_8.0  K_9.0  \\\n",
       "0   -12.353  ...      0     0      0     0      0      1      0      0   \n",
       "1    -6.644  ...      0     0      0     0      1      0      0      0   \n",
       "2   -20.465  ...      0     0      1     0      0      0      0      0   \n",
       "3    -5.253  ...      0     0      0     0      0      1      0      0   \n",
       "4    -5.481  ...      0     0      0     0      0      0      0      0   \n",
       "\n",
       "   K_10.0  K_11.0  \n",
       "0       0       0  \n",
       "1       0       0  \n",
       "2       0       0  \n",
       "3       0       0  \n",
       "4       0       0  \n",
       "\n",
       "[5 rows x 30 columns]"
      ]
     },
     "execution_count": 106,
     "metadata": {},
     "output_type": "execute_result"
    }
   ],
   "source": [
    "def one_hot_enc(df,fldname):\n",
    "    df[fldname] = df[fldname].astype('category')\n",
    "    s = pd.Series(df[fldname])\n",
    "    dummies = pd.get_dummies(s,'K')\n",
    "    df = pd.concat([df,dummies],axis=1)\n",
    "    df.drop([fldname],axis=1,inplace=True)\n",
    "    return df\n",
    "df = one_hot_enc(df,'key')\n",
    "df.head()"
   ]
  },
  {
   "cell_type": "code",
   "execution_count": 107,
   "metadata": {},
   "outputs": [],
   "source": [
    "sptfy = df.iloc[:,:]"
   ]
  },
  {
   "cell_type": "markdown",
   "metadata": {},
   "source": [
    "# Drop NAME,ID columns"
   ]
  },
  {
   "cell_type": "code",
   "execution_count": 108,
   "metadata": {},
   "outputs": [],
   "source": [
    "sptfy.drop(['name','id'],axis=1,inplace=True)"
   ]
  },
  {
   "cell_type": "code",
   "execution_count": 109,
   "metadata": {},
   "outputs": [],
   "source": [
    "cat_col = ['artists']\n",
    "sptfy = feature_encoder(sptfy,cat_col)\n",
    "X,y = sptfy.drop('popularity',axis=1),sptfy.popularity"
   ]
  },
  {
   "cell_type": "markdown",
   "metadata": {},
   "source": [
    "# Features Generation"
   ]
  },
  {
   "cell_type": "code",
   "execution_count": 110,
   "metadata": {},
   "outputs": [],
   "source": [
    "def add_datepart(df,fieldname):\n",
    "    fld = df[fieldname]\n",
    "    targ_pre = re.sub('[Dd]ate$','',fieldname)\n",
    "    for n in ('Month','Week','Day','Dayofweek','Is_month_end','Is_month_start','Is_quarter_end',\n",
    "              'Is_quarter_start','Is_year_end','Is_year_start'):    \n",
    "        df[targ_pre+n]=getattr(fld.dt,n.lower())\n",
    "    df[targ_pre+'Elapsed']=(fld-fld.min()).dt.days\n",
    "    df.drop(fieldname,axis=1,inplace=True)"
   ]
  },
  {
   "cell_type": "code",
   "execution_count": 111,
   "metadata": {},
   "outputs": [
    {
     "name": "stderr",
     "output_type": "stream",
     "text": [
      "C:\\Users\\Yousef\\Anaconda3\\envs\\spotify_model\\lib\\site-packages\\ipykernel_launcher.py:6: FutureWarning: Series.dt.weekofyear and Series.dt.week have been deprecated.  Please use Series.dt.isocalendar().week instead.\n",
      "  \n"
     ]
    }
   ],
   "source": [
    "add_datepart(X,'release_date')"
   ]
  },
  {
   "cell_type": "code",
   "execution_count": 112,
   "metadata": {},
   "outputs": [
    {
     "data": {
      "text/plain": [
       "Index(['acousticness', 'artists', 'danceability', 'duration_m', 'energy',\n",
       "       'explicit', 'instrumentalness', 'liveness', 'loudness', 'mode',\n",
       "       'speechiness', 'tempo', 'valence', 'year', 'K_0.0', 'K_1.0', 'K_2.0',\n",
       "       'K_3.0', 'K_4.0', 'K_5.0', 'K_6.0', 'K_7.0', 'K_8.0', 'K_9.0', 'K_10.0',\n",
       "       'K_11.0', 'release_Month', 'release_Week', 'release_Day',\n",
       "       'release_Dayofweek', 'release_Is_month_end', 'release_Is_month_start',\n",
       "       'release_Is_quarter_end', 'release_Is_quarter_start',\n",
       "       'release_Is_year_end', 'release_Is_year_start', 'release_Elapsed'],\n",
       "      dtype='object')"
      ]
     },
     "execution_count": 112,
     "metadata": {},
     "output_type": "execute_result"
    }
   ],
   "source": [
    "X.columns"
   ]
  },
  {
   "cell_type": "markdown",
   "metadata": {},
   "source": [
    "# Feature Scaling"
   ]
  },
  {
   "cell_type": "code",
   "execution_count": 113,
   "metadata": {},
   "outputs": [],
   "source": [
    "def MinMax_normalization(X):\n",
    "    MinMax = preprocessing.MinMaxScaler()\n",
    "    MinMax.fit(X)\n",
    "    X = pd.DataFrame(MinMax.transform(X),columns = X.columns)\n",
    "    return X\n",
    "X = MinMax_normalization(X)"
   ]
  },
  {
   "cell_type": "code",
   "execution_count": 114,
   "metadata": {},
   "outputs": [],
   "source": [
    "#Scale = preprocessing.scale(X)\n",
    "#X = pd.DataFrame(Scale,columns = X.columns)"
   ]
  },
  {
   "cell_type": "markdown",
   "metadata": {},
   "source": [
    "# Modeling"
   ]
  },
  {
   "cell_type": "code",
   "execution_count": null,
   "metadata": {},
   "outputs": [],
   "source": []
  },
  {
   "cell_type": "code",
   "execution_count": 115,
   "metadata": {},
   "outputs": [],
   "source": [
    "X_train,X_valid_test,Y_train,Y_vaild_test = train_test_split(X,y,test_size=0.2,random_state=0,shuffle=True)\n",
    "X_valid,X_test,Y_valid,Y_test = train_test_split(X_valid_test,Y_vaild_test,test_size = 0.5,random_state=0,shuffle=True)"
   ]
  },
  {
   "cell_type": "code",
   "execution_count": 116,
   "metadata": {
    "scrolled": true
   },
   "outputs": [
    {
     "name": "stdout",
     "output_type": "stream",
     "text": [
      "(96247, 37)\n",
      "(12031, 37)\n",
      "(12031, 37)\n"
     ]
    }
   ],
   "source": [
    "print(X_train.shape)\n",
    "print(X_valid.shape)\n",
    "print(X_test.shape)"
   ]
  },
  {
   "cell_type": "code",
   "execution_count": null,
   "metadata": {},
   "outputs": [],
   "source": []
  },
  {
   "cell_type": "code",
   "execution_count": 32,
   "metadata": {
    "scrolled": true
   },
   "outputs": [
    {
     "name": "stdout",
     "output_type": "stream",
     "text": [
      "Wall time: 6.85 s\n"
     ]
    },
    {
     "data": {
      "text/plain": [
       "RandomForestRegressor(max_depth=7, max_features=0.5, min_samples_leaf=3,\n",
       "                      n_estimators=120, n_jobs=-1)"
      ]
     },
     "execution_count": 32,
     "metadata": {},
     "output_type": "execute_result"
    }
   ],
   "source": [
    "m = RandomForestRegressor(n_estimators = 120,min_samples_leaf = 3,max_depth =7 ,max_features=0.5,n_jobs=-1)\n",
    "%time m.fit(X_train,Y_train)\n"
   ]
  },
  {
   "cell_type": "markdown",
   "metadata": {},
   "source": [
    "# Save the model"
   ]
  },
  {
   "cell_type": "code",
   "execution_count": 120,
   "metadata": {},
   "outputs": [],
   "source": [
    "filename = \"C:\\\\Users\\\\Yousef\\\\Desktop\\\\ml\\\\saved_regression_models\\\\XGB.pkl\"\n",
    "pickle_rick.dump(XGB,open(filename,'wb'))"
   ]
  },
  {
   "cell_type": "code",
   "execution_count": 271,
   "metadata": {},
   "outputs": [],
   "source": [
    "m = pickle_rick.load(open(filename, 'rb'))"
   ]
  },
  {
   "cell_type": "code",
   "execution_count": 33,
   "metadata": {},
   "outputs": [
    {
     "name": "stdout",
     "output_type": "stream",
     "text": [
      "Score on Training set = 0.7981708329075451\n",
      "MSE of Training set = 94.05863087952962\n",
      "Score on validation set = 0.7979596685992973\n",
      "MSE of Validation set = 95.8837392166497\n",
      "Score on Test set (Random Forest) = 0.7933540056340899\n",
      "MSE of Test set (Random Forest) = 96.47090344939032\n"
     ]
    }
   ],
   "source": [
    "# on valid\n",
    "pred_train = m.predict(X_train)\n",
    "pred = m.predict(X_valid)\n",
    "print(\"Score on Training set = {score}\".format(score = m.score(X_train,Y_train)))\n",
    "print(\"MSE of Training set = {MSE}\".format(MSE=metrics.mean_squared_error(Y_train,pred_train)))\n",
    "print(\"Score on validation set = \"+str(m.score(X_valid,Y_valid)))\n",
    "print(\"MSE of Validation set = \"+str(metrics.mean_squared_error(np.array(Y_valid),pred)))\n",
    "# On test set\n",
    "test_pred = m.predict(X_test)\n",
    "print(\"Score on Test set (Random Forest) = \"+str(m.score(X_test,Y_test)))\n",
    "print(\"MSE of Test set (Random Forest) = \"+str(metrics.mean_squared_error(test_pred,Y_test)))"
   ]
  },
  {
   "cell_type": "code",
   "execution_count": null,
   "metadata": {},
   "outputs": [],
   "source": [
    "\n"
   ]
  },
  {
   "cell_type": "code",
   "execution_count": 34,
   "metadata": {},
   "outputs": [
    {
     "data": {
      "image/png": "[encoded data removed]",
      "text/plain": [
       "<Figure size 432x432 with 1 Axes>"
      ]
     },
     "metadata": {
      "needs_background": "light"
     },
     "output_type": "display_data"
    }
   ],
   "source": [
    "fig, ax = plt.subplots(figsize=(6, 6))\n",
    "ax = sns.scatterplot(x=Y_test, y=test_pred)\n",
    "sns.lineplot(x=Y_test, y=Y_test, color='red', ax=ax)\n",
    "ax.set_xlabel('Y_test')\n",
    "ax.set_ylabel('test_pred')\n",
    "ax.set_title('Random Forest Y_test vs Test_pred', fontsize=14, color='red')\n",
    "plt.show()\n"
   ]
  },
  {
   "cell_type": "markdown",
   "metadata": {},
   "source": [
    "# Linear Regression Model"
   ]
  },
  {
   "cell_type": "code",
   "execution_count": 35,
   "metadata": {},
   "outputs": [
    {
     "name": "stdout",
     "output_type": "stream",
     "text": [
      "Wall time: 129 ms\n"
     ]
    },
    {
     "data": {
      "text/plain": [
       "LinearRegression()"
      ]
     },
     "execution_count": 35,
     "metadata": {},
     "output_type": "execute_result"
    }
   ],
   "source": [
    "lr = LinearRegression()\n",
    "%time lr.fit(X_train,Y_train)"
   ]
  },
  {
   "cell_type": "code",
   "execution_count": 36,
   "metadata": {},
   "outputs": [
    {
     "name": "stdout",
     "output_type": "stream",
     "text": [
      "Score on Training set = 0.7421181916605852\n",
      "MSE of Training set = 120.18089441964199\n",
      "Score on validation set = 0.7449468151044019\n",
      "MSE of Validation set = 121.04243196079221\n",
      "Score on Test set (LR) = 0.7386078486539325\n",
      "MSE of Test set (LR) = 122.02867552459487\n"
     ]
    }
   ],
   "source": [
    "# on valid\n",
    "pred_train = lr.predict(X_train)\n",
    "pred = lr.predict(X_valid)\n",
    "print(\"Score on Training set = \"+str(lr.score(X_train,Y_train)))\n",
    "print(\"MSE of Training set = \"+str(metrics.mean_squared_error(Y_train,pred_train)))\n",
    "print(\"Score on validation set = \"+str(lr.score(X_valid,Y_valid)))\n",
    "print(\"MSE of Validation set = \"+str(metrics.mean_squared_error(np.array(Y_valid),pred)))\n",
    "# On test set\n",
    "test_pred = lr.predict(X_test)\n",
    "print(\"Score on Test set (LR) = \"+str(lr.score(X_test,Y_test)))\n",
    "print(\"MSE of Test set (LR) = \"+str(metrics.mean_squared_error(test_pred,Y_test)))"
   ]
  },
  {
   "cell_type": "code",
   "execution_count": 118,
   "metadata": {},
   "outputs": [
    {
     "name": "stdout",
     "output_type": "stream",
     "text": [
      "Wall time: 9.11 s\n"
     ]
    },
    {
     "data": {
      "text/plain": [
       "XGBRegressor(base_score=0.5, booster='gbtree', colsample_bylevel=1,\n",
       "             colsample_bynode=1, colsample_bytree=1, gamma=0, gpu_id=-1,\n",
       "             importance_type='gain', interaction_constraints='',\n",
       "             learning_rate=0.1, max_delta_step=0, max_depth=5,\n",
       "             min_child_weight=1, missing=nan, monotone_constraints='()',\n",
       "             n_estimators=200, n_jobs=-1, num_parallel_tree=1, random_state=0,\n",
       "             reg_alpha=0, reg_lambda=1, scale_pos_weight=1, subsample=1,\n",
       "             tree_method='exact', validate_parameters=1, verbosity=None)"
      ]
     },
     "execution_count": 118,
     "metadata": {},
     "output_type": "execute_result"
    }
   ],
   "source": [
    "XGB = XGBRegressor(n_estimators = 200,max_depth = 5,learning_rate=0.1,n_jobs=-1)\n",
    "%time XGB.fit(X_train,Y_train)"
   ]
  },
  {
   "cell_type": "code",
   "execution_count": 119,
   "metadata": {},
   "outputs": [
    {
     "name": "stdout",
     "output_type": "stream",
     "text": [
      "Score on Training set = 0.8272033933628394\n",
      "MSE of Training set = 80.52856024260703\n",
      "Score on validation set = 0.8171073730729593\n",
      "MSE of Validation set = 86.79667481905241\n",
      "Score on Test set (LR) = 0.8137309016827301\n",
      "MSE of Test set (LR) = 86.95812495427072\n"
     ]
    }
   ],
   "source": [
    "pred_train = XGB.predict(X_train)\n",
    "pred = XGB.predict(X_valid)\n",
    "print(\"Score on Training set = \"+str(XGB.score(X_train,Y_train)))\n",
    "print(\"MSE of Training set = \"+str(metrics.mean_squared_error(Y_train,pred_train)))\n",
    "print(\"Score on validation set = \"+str(XGB.score(X_valid,Y_valid)))\n",
    "print(\"MSE of Validation set = \"+str(metrics.mean_squared_error(np.array(Y_valid),pred)))\n",
    "\n",
    "# On test set\n",
    "test_pred = XGB.predict(X_test)\n",
    "print(\"Score on Test set (LR) = \"+str(XGB.score(X_test,Y_test)))\n",
    "print(\"MSE of Test set (LR) = \"+str(metrics.mean_squared_error(test_pred,Y_test)))\n"
   ]
  },
  {
   "cell_type": "code",
   "execution_count": 128,
   "metadata": {},
   "outputs": [],
   "source": [
    "def test_script(filepath,modelpath):\n",
    "    test_data = pd.read_csv(filepath,parse_dates=['release_date'])\n",
    "    test_data = test_data[~test_data.duplicated()==1]\n",
    "    fill_missing_values(test_data)\n",
    "    test_data = duration_to_minutes(test_data)\n",
    "    test_data = one_hot_enc(test_data,'key')\n",
    "    test_data.drop(['name','id'],axis=1,inplace=True)\n",
    "    test_data = feature_encoder(test_data,['artists'])\n",
    "    testX,testY = test_data.drop('popularity',axis=1),test_data.popularity\n",
    "    add_datepart(testX,'release_date')\n",
    "    testX = MinMax_normalization(testX)\n",
    "    m = XGBRegressor(n_estimators = 200,learning_rate=0.1,n_jobs=-1).fit(X_train,Y_train)\n",
    "    pred = m.predict(testX)\n",
    "    print(\"Score on test set is {acc}\".format(acc=m.score(testX,testY)))\n",
    "    print(\"MSE of Test set = \"+str(metrics.mean_squared_error(pred,testY)))"
   ]
  },
  {
   "cell_type": "code",
   "execution_count": null,
   "metadata": {},
   "outputs": [],
   "source": []
  },
  {
   "cell_type": "code",
   "execution_count": null,
   "metadata": {},
   "outputs": [],
   "source": []
  }
 ],
 "metadata": {
  "kernelspec": {
   "display_name": "Python [default]",
   "language": "python",
   "name": "python3"
  },
  "language_info": {
   "codemirror_mode": {
    "name": "ipython",
    "version": 3
   },
   "file_extension": ".py",
   "mimetype": "text/x-python",
   "name": "python",
   "nbconvert_exporter": "python",
   "pygments_lexer": "ipython3",
   "version": "3.6.4"
  }
 },
 "nbformat": 4,
 "nbformat_minor": 4
}
