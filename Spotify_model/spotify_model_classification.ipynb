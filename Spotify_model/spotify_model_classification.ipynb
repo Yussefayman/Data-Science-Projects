{
 "cells": [
  {
   "cell_type": "code",
   "execution_count": 1,
   "metadata": {},
   "outputs": [],
   "source": [
    "import imblearn\n",
    "import numpy as np \n",
    "import pandas as pd\n",
    "from pandas_profiling import ProfileReport\n",
    "from sklearn.ensemble import RandomForestClassifier\n",
    "from sklearn.neighbors import KNeighborsClassifier\n",
    "from sklearn.svm import SVC\n",
    "from sklearn.model_selection import train_test_split\n",
    "from sklearn.preprocessing import LabelEncoder,OneHotEncoder\n",
    "from sklearn.multiclass import OneVsRestClassifier\n",
    "from sklearn import metrics\n",
    "from xgboost import XGBClassifier\n",
    "import matplotlib.pyplot as plt\n",
    "import seaborn as sns\n",
    "import re\n",
    "import pickle as pickle_rick\n",
    "from sklearn import preprocessing\n",
    "from sklearn.metrics import confusion_matrix,ConfusionMatrixDisplay\n",
    "from imblearn.under_sampling import RandomUnderSampler\n",
    "from imblearn.over_sampling import RandomOverSampler\n",
    "from imblearn.over_sampling import SMOTE\n",
    "from collections import Counter\n",
    "import time"
   ]
  },
  {
   "cell_type": "code",
   "execution_count": 2,
   "metadata": {},
   "outputs": [],
   "source": [
    "df = pd.read_csv('C:\\\\Users\\\\Yousef\\\\Desktop\\\\ml\\\\ML_Dataset\\\\spotify_training_classification.csv',parse_dates=['release_date'])"
   ]
  },
  {
   "cell_type": "code",
   "execution_count": 3,
   "metadata": {},
   "outputs": [],
   "source": [
    "#pandas_profile = ProfileReport(df, title='Song Pop Profiling Report', explorative = True)\n",
    "#pandas_profile.to_file(\"SongPopClass.html\")"
   ]
  },
  {
   "cell_type": "code",
   "execution_count": 4,
   "metadata": {},
   "outputs": [
    {
     "data": {
      "text/plain": [
       "Index(['High', 'Intermediate', 'Low'], dtype='object')"
      ]
     },
     "execution_count": 4,
     "metadata": {},
     "output_type": "execute_result"
    }
   ],
   "source": [
    "df['popularity_level']=df['popularity_level'].astype('category')\n",
    "df['popularity_level'].cat.categories"
   ]
  },
  {
   "cell_type": "markdown",
   "metadata": {},
   "source": [
    "# Check Class imbalance"
   ]
  },
  {
   "cell_type": "code",
   "execution_count": 5,
   "metadata": {},
   "outputs": [
    {
     "name": "stderr",
     "output_type": "stream",
     "text": [
      "C:\\Users\\Yousef\\Anaconda3\\envs\\spotify_model\\lib\\site-packages\\seaborn\\_decorators.py:43: FutureWarning: Pass the following variable as a keyword arg: x. From version 0.12, the only valid positional argument will be `data`, and passing other arguments without an explicit keyword will result in an error or misinterpretation.\n",
      "  FutureWarning\n"
     ]
    },
    {
     "data": {
      "image/png": "[encoded data removed]",
      "text/plain": [
       "<Figure size 432x288 with 1 Axes>"
      ]
     },
     "metadata": {
      "needs_background": "light"
     },
     "output_type": "display_data"
    },
    {
     "name": "stdout",
     "output_type": "stream",
     "text": [
      "Low             52977\n",
      "Intermediate    46111\n",
      "High             3771\n",
      "Name: popularity_level, dtype: int64\n"
     ]
    }
   ],
   "source": [
    "#check class imbalance\n",
    "\n",
    "g = sns.countplot(df['popularity_level'])\n",
    "g.set_xticklabels(['High','Intermediate','Low'])\n",
    "plt.show()\n",
    "print(df['popularity_level'].value_counts())"
   ]
  },
  {
   "cell_type": "code",
   "execution_count": 6,
   "metadata": {},
   "outputs": [],
   "source": [
    "#rus = RandomUnderSampler(replacement=True)# fit predictor and target variable\n",
    "#X = df.drop(['popularity_level'],axis=1)\n",
    "#y = df['popularity_level']\n",
    "#x_rus, y_rus = rus.fit_resample(X,y)\n",
    "#df = pd.concat([x_rus,y_rus],axis = 1)\n",
    "#print('original dataset shape:', Counter(y))\n",
    "#print('Resample dataset shape', Counter(y_rus))"
   ]
  },
  {
   "cell_type": "code",
   "execution_count": 7,
   "metadata": {},
   "outputs": [],
   "source": [
    "#ros = RandomOverSampler()\n",
    "#X = df.drop(['popularity_level'],axis=1)\n",
    "#y = df['popularity_level']\n",
    "#x_ros, y_ros = ros.fit_resample(X, y)\n",
    "#df = pd.concat([x_ros,y_ros],axis = 1)\n",
    "#print('Original dataset shape', Counter(y))\n",
    "#print('Resample dataset shape', Counter(y_ros))"
   ]
  },
  {
   "cell_type": "code",
   "execution_count": 8,
   "metadata": {},
   "outputs": [],
   "source": [
    "def dataframe_nulls(dataframe):\n",
    "    return dataframe.isnull().sum()\n",
    "#dataframe_nulls(df)"
   ]
  },
  {
   "cell_type": "code",
   "execution_count": 9,
   "metadata": {},
   "outputs": [
    {
     "name": "stdout",
     "output_type": "stream",
     "text": [
      "<class 'pandas.core.frame.DataFrame'>\n",
      "RangeIndex: 102859 entries, 0 to 102858\n",
      "Data columns (total 19 columns):\n",
      " #   Column            Non-Null Count   Dtype         \n",
      "---  ------            --------------   -----         \n",
      " 0   valence           102099 non-null  float64       \n",
      " 1   year              102121 non-null  float64       \n",
      " 2   acousticness      102145 non-null  float64       \n",
      " 3   artists           102024 non-null  object        \n",
      " 4   danceability      102145 non-null  float64       \n",
      " 5   duration_ms       101685 non-null  float64       \n",
      " 6   energy            102145 non-null  float64       \n",
      " 7   explicit          102145 non-null  float64       \n",
      " 8   id                101906 non-null  object        \n",
      " 9   instrumentalness  102145 non-null  float64       \n",
      " 10  key               102145 non-null  float64       \n",
      " 11  liveness          102145 non-null  float64       \n",
      " 12  loudness          102145 non-null  float64       \n",
      " 13  mode              102145 non-null  float64       \n",
      " 14  name              100924 non-null  object        \n",
      " 15  tempo             102145 non-null  float64       \n",
      " 16  release_date      101861 non-null  datetime64[ns]\n",
      " 17  speechiness       102145 non-null  float64       \n",
      " 18  popularity_level  102859 non-null  category      \n",
      "dtypes: category(1), datetime64[ns](1), float64(14), object(3)\n",
      "memory usage: 14.2+ MB\n"
     ]
    }
   ],
   "source": [
    "df.info()"
   ]
  },
  {
   "cell_type": "code",
   "execution_count": 10,
   "metadata": {},
   "outputs": [
    {
     "name": "stdout",
     "output_type": "stream",
     "text": [
      "name has 79731 unique values\n",
      "artists has 22456 unique values\n",
      "key has 12 unique values\n"
     ]
    }
   ],
   "source": [
    "categorical_cols = ['name','artists','key']\n",
    "\n",
    "def unique_vals(dataframe,cat_cols):\n",
    "    for c in cat_cols:\n",
    "        print(\"{col} has {unique_val} unique values\".format(col = c , unique_val = dataframe[c].nunique()))\n",
    "\n",
    "unique_vals(df,categorical_cols)\n",
    "\n"
   ]
  },
  {
   "cell_type": "code",
   "execution_count": 11,
   "metadata": {},
   "outputs": [
    {
     "name": "stdout",
     "output_type": "stream",
     "text": [
      "712\n"
     ]
    }
   ],
   "source": [
    "print(df.duplicated().sum())\n",
    "df = df[~df.duplicated()==1]"
   ]
  },
  {
   "cell_type": "code",
   "execution_count": 12,
   "metadata": {},
   "outputs": [],
   "source": [
    "def fill_missing_values(df):\n",
    "    df['valence'].fillna(df['valence'].median(),inplace=True)\n",
    "    df['year'].fillna(df['year'].mean(),inplace=True)\n",
    "    df['acousticness'].fillna(df['acousticness'].median(),inplace=True)\n",
    "    df['danceability'].fillna(df['danceability'].median(),inplace=True)\n",
    "    df['duration_ms'].fillna(df['duration_ms'].median(),inplace=True)\n",
    "    df['energy'].fillna(df['energy'].mean(),inplace=True)\n",
    "    df['explicit'].fillna(0,inplace=True)\n",
    "    df['id'].fillna(df['id'].mode().iloc[0],inplace=True)\n",
    "    df['instrumentalness'].fillna(df['instrumentalness'].median(),inplace=True)\n",
    "    df['key'].fillna(df['key'].median(),inplace=True)\n",
    "    df['liveness'].fillna(df['liveness'].mean(),inplace=True)\n",
    "    df['loudness'].fillna(df['loudness'].median(),inplace=True)\n",
    "    df['mode'].fillna(0,inplace=True)\n",
    "    df['name'].fillna(df['name'].mode().iloc[0],inplace=True)\n",
    "    df['tempo'].fillna(df['tempo'].median(),inplace=True)\n",
    "    df['release_date'].fillna(df['release_date'].mode().iloc[0],inplace=True)\n",
    "    df['speechiness'].fillna(df['speechiness'].median(),inplace=True)\n",
    "    \n",
    "fill_missing_values(df)"
   ]
  },
  {
   "cell_type": "code",
   "execution_count": 13,
   "metadata": {},
   "outputs": [],
   "source": [
    "def duration_to_minutes(df):\n",
    "    df['duration_m'] = df['duration_ms']/60000\n",
    "    df = df.reindex(sorted(df.columns), axis=1)\n",
    "    df.drop('duration_ms', axis = 1, inplace = True)\n",
    "    return df\n",
    "df = duration_to_minutes(df)"
   ]
  },
  {
   "cell_type": "code",
   "execution_count": 14,
   "metadata": {},
   "outputs": [
    {
     "data": {
      "text/html": [
       "<div>\n",
       "<style scoped>\n",
       "    .dataframe tbody tr th:only-of-type {\n",
       "        vertical-align: middle;\n",
       "    }\n",
       "\n",
       "    .dataframe tbody tr th {\n",
       "        vertical-align: top;\n",
       "    }\n",
       "\n",
       "    .dataframe thead th {\n",
       "        text-align: right;\n",
       "    }\n",
       "</style>\n",
       "<table border=\"1\" class=\"dataframe\">\n",
       "  <thead>\n",
       "    <tr style=\"text-align: right;\">\n",
       "      <th></th>\n",
       "      <th>acousticness</th>\n",
       "      <th>artists</th>\n",
       "      <th>danceability</th>\n",
       "      <th>duration_m</th>\n",
       "      <th>energy</th>\n",
       "      <th>explicit</th>\n",
       "      <th>id</th>\n",
       "      <th>instrumentalness</th>\n",
       "      <th>key</th>\n",
       "      <th>liveness</th>\n",
       "      <th>loudness</th>\n",
       "      <th>mode</th>\n",
       "      <th>name</th>\n",
       "      <th>popularity_level</th>\n",
       "      <th>release_date</th>\n",
       "      <th>speechiness</th>\n",
       "      <th>tempo</th>\n",
       "      <th>valence</th>\n",
       "      <th>year</th>\n",
       "    </tr>\n",
       "  </thead>\n",
       "  <tbody>\n",
       "    <tr>\n",
       "      <th>0</th>\n",
       "      <td>0.4540</td>\n",
       "      <td>[\"Adolescent's Orquesta\"]</td>\n",
       "      <td>0.737</td>\n",
       "      <td>4.189183</td>\n",
       "      <td>0.614</td>\n",
       "      <td>0.0</td>\n",
       "      <td>0f6VT4JZxNc9DE2kUtqlNw</td>\n",
       "      <td>0.000000</td>\n",
       "      <td>8.0</td>\n",
       "      <td>0.2850</td>\n",
       "      <td>-11.871</td>\n",
       "      <td>1.0</td>\n",
       "      <td>Arrepentida</td>\n",
       "      <td>Intermediate</td>\n",
       "      <td>1997-01-01</td>\n",
       "      <td>0.0542</td>\n",
       "      <td>110.929</td>\n",
       "      <td>0.895</td>\n",
       "      <td>1997.0</td>\n",
       "    </tr>\n",
       "    <tr>\n",
       "      <th>1</th>\n",
       "      <td>0.2580</td>\n",
       "      <td>[\"Adolescent's Orquesta\"]</td>\n",
       "      <td>0.451</td>\n",
       "      <td>4.669817</td>\n",
       "      <td>0.785</td>\n",
       "      <td>0.0</td>\n",
       "      <td>3AK05RIuu30jqJ40cfOxLD</td>\n",
       "      <td>0.000000</td>\n",
       "      <td>2.0</td>\n",
       "      <td>0.1200</td>\n",
       "      <td>-4.701</td>\n",
       "      <td>0.0</td>\n",
       "      <td>Me Tengo Que Ir</td>\n",
       "      <td>Intermediate</td>\n",
       "      <td>1996-01-10</td>\n",
       "      <td>0.0362</td>\n",
       "      <td>96.831</td>\n",
       "      <td>0.846</td>\n",
       "      <td>1996.0</td>\n",
       "    </tr>\n",
       "    <tr>\n",
       "      <th>2</th>\n",
       "      <td>0.4370</td>\n",
       "      <td>[\"Adolescent's Orquesta\"]</td>\n",
       "      <td>0.464</td>\n",
       "      <td>4.721217</td>\n",
       "      <td>0.511</td>\n",
       "      <td>0.0</td>\n",
       "      <td>0u2LbmKA70atp4J59QUnHW</td>\n",
       "      <td>0.000000</td>\n",
       "      <td>2.0</td>\n",
       "      <td>0.1490</td>\n",
       "      <td>-11.815</td>\n",
       "      <td>0.0</td>\n",
       "      <td>Persona Ideal</td>\n",
       "      <td>Intermediate</td>\n",
       "      <td>1997-01-01</td>\n",
       "      <td>0.0329</td>\n",
       "      <td>96.856</td>\n",
       "      <td>0.840</td>\n",
       "      <td>1997.0</td>\n",
       "    </tr>\n",
       "    <tr>\n",
       "      <th>3</th>\n",
       "      <td>0.5160</td>\n",
       "      <td>[\"Adolescent's Orquesta\"]</td>\n",
       "      <td>0.709</td>\n",
       "      <td>4.049417</td>\n",
       "      <td>0.747</td>\n",
       "      <td>0.0</td>\n",
       "      <td>6vYGqxYCAcj4gfyrGcqN3i</td>\n",
       "      <td>0.000000</td>\n",
       "      <td>0.0</td>\n",
       "      <td>0.3520</td>\n",
       "      <td>-4.620</td>\n",
       "      <td>0.0</td>\n",
       "      <td>Se Acabo El Amor</td>\n",
       "      <td>Intermediate</td>\n",
       "      <td>2008-01-01</td>\n",
       "      <td>0.0484</td>\n",
       "      <td>153.151</td>\n",
       "      <td>0.877</td>\n",
       "      <td>2008.0</td>\n",
       "    </tr>\n",
       "    <tr>\n",
       "      <th>4</th>\n",
       "      <td>0.3210</td>\n",
       "      <td>[\"Alexander O'Neal\", 'Cherrelle']</td>\n",
       "      <td>0.750</td>\n",
       "      <td>5.156667</td>\n",
       "      <td>0.590</td>\n",
       "      <td>0.0</td>\n",
       "      <td>7DVTNkZRGqvFcKryWCuTZP</td>\n",
       "      <td>0.000000</td>\n",
       "      <td>5.0</td>\n",
       "      <td>0.1150</td>\n",
       "      <td>-11.799</td>\n",
       "      <td>1.0</td>\n",
       "      <td>Never Knew Love Like This</td>\n",
       "      <td>Intermediate</td>\n",
       "      <td>1987-07-29</td>\n",
       "      <td>0.0346</td>\n",
       "      <td>104.101</td>\n",
       "      <td>0.803</td>\n",
       "      <td>1987.0</td>\n",
       "    </tr>\n",
       "    <tr>\n",
       "      <th>...</th>\n",
       "      <td>...</td>\n",
       "      <td>...</td>\n",
       "      <td>...</td>\n",
       "      <td>...</td>\n",
       "      <td>...</td>\n",
       "      <td>...</td>\n",
       "      <td>...</td>\n",
       "      <td>...</td>\n",
       "      <td>...</td>\n",
       "      <td>...</td>\n",
       "      <td>...</td>\n",
       "      <td>...</td>\n",
       "      <td>...</td>\n",
       "      <td>...</td>\n",
       "      <td>...</td>\n",
       "      <td>...</td>\n",
       "      <td>...</td>\n",
       "      <td>...</td>\n",
       "      <td>...</td>\n",
       "    </tr>\n",
       "    <tr>\n",
       "      <th>102845</th>\n",
       "      <td>0.0265</td>\n",
       "      <td>NaN</td>\n",
       "      <td>0.842</td>\n",
       "      <td>2.682533</td>\n",
       "      <td>0.715</td>\n",
       "      <td>1.0</td>\n",
       "      <td>2FVMbLuIxo0dz3KLXgN6Jh</td>\n",
       "      <td>0.055400</td>\n",
       "      <td>2.0</td>\n",
       "      <td>0.0831</td>\n",
       "      <td>-6.030</td>\n",
       "      <td>1.0</td>\n",
       "      <td>24</td>\n",
       "      <td>High</td>\n",
       "      <td>2020-03-02</td>\n",
       "      <td>0.0912</td>\n",
       "      <td>126.021</td>\n",
       "      <td>0.428</td>\n",
       "      <td>2020.0</td>\n",
       "    </tr>\n",
       "    <tr>\n",
       "      <th>102846</th>\n",
       "      <td>0.0029</td>\n",
       "      <td>NaN</td>\n",
       "      <td>0.333</td>\n",
       "      <td>5.135333</td>\n",
       "      <td>0.927</td>\n",
       "      <td>0.0</td>\n",
       "      <td>5QTxFnGygVM4jFQiBovmRo</td>\n",
       "      <td>0.000208</td>\n",
       "      <td>9.0</td>\n",
       "      <td>0.2970</td>\n",
       "      <td>-8.550</td>\n",
       "      <td>0.0</td>\n",
       "      <td>(Don't Fear) The Reaper</td>\n",
       "      <td>High</td>\n",
       "      <td>1976-01-01</td>\n",
       "      <td>0.0733</td>\n",
       "      <td>141.466</td>\n",
       "      <td>0.385</td>\n",
       "      <td>1976.0</td>\n",
       "    </tr>\n",
       "    <tr>\n",
       "      <th>102848</th>\n",
       "      <td>0.0294</td>\n",
       "      <td>NaN</td>\n",
       "      <td>0.789</td>\n",
       "      <td>2.868883</td>\n",
       "      <td>0.813</td>\n",
       "      <td>0.0</td>\n",
       "      <td>6qI0MU175Dk2DeoUjlrOpy</td>\n",
       "      <td>0.000002</td>\n",
       "      <td>5.0</td>\n",
       "      <td>0.5190</td>\n",
       "      <td>-4.563</td>\n",
       "      <td>1.0</td>\n",
       "      <td>911</td>\n",
       "      <td>High</td>\n",
       "      <td>2020-05-29</td>\n",
       "      <td>0.0374</td>\n",
       "      <td>116.007</td>\n",
       "      <td>0.420</td>\n",
       "      <td>2020.0</td>\n",
       "    </tr>\n",
       "    <tr>\n",
       "      <th>102854</th>\n",
       "      <td>0.2200</td>\n",
       "      <td>NaN</td>\n",
       "      <td>0.681</td>\n",
       "      <td>4.139333</td>\n",
       "      <td>0.582</td>\n",
       "      <td>0.0</td>\n",
       "      <td>3JjnGLK8IxkNLvo8Lb3KOM</td>\n",
       "      <td>0.000000</td>\n",
       "      <td>6.0</td>\n",
       "      <td>0.1190</td>\n",
       "      <td>-7.760</td>\n",
       "      <td>0.0</td>\n",
       "      <td>18</td>\n",
       "      <td>High</td>\n",
       "      <td>2014-11-17</td>\n",
       "      <td>0.0313</td>\n",
       "      <td>124.038</td>\n",
       "      <td>0.221</td>\n",
       "      <td>2014.0</td>\n",
       "    </tr>\n",
       "    <tr>\n",
       "      <th>102857</th>\n",
       "      <td>0.1490</td>\n",
       "      <td>NaN</td>\n",
       "      <td>0.783</td>\n",
       "      <td>2.729967</td>\n",
       "      <td>0.479</td>\n",
       "      <td>1.0</td>\n",
       "      <td>3JKgcAa7r07ocVWcV8bS0H</td>\n",
       "      <td>0.000000</td>\n",
       "      <td>7.0</td>\n",
       "      <td>0.1010</td>\n",
       "      <td>-10.646</td>\n",
       "      <td>1.0</td>\n",
       "      <td>21</td>\n",
       "      <td>High</td>\n",
       "      <td>2020-05-15</td>\n",
       "      <td>0.5410</td>\n",
       "      <td>176.027</td>\n",
       "      <td>0.533</td>\n",
       "      <td>2020.0</td>\n",
       "    </tr>\n",
       "  </tbody>\n",
       "</table>\n",
       "<p>102147 rows × 19 columns</p>\n",
       "</div>"
      ],
      "text/plain": [
       "        acousticness                            artists  danceability  \\\n",
       "0             0.4540          [\"Adolescent's Orquesta\"]         0.737   \n",
       "1             0.2580          [\"Adolescent's Orquesta\"]         0.451   \n",
       "2             0.4370          [\"Adolescent's Orquesta\"]         0.464   \n",
       "3             0.5160          [\"Adolescent's Orquesta\"]         0.709   \n",
       "4             0.3210  [\"Alexander O'Neal\", 'Cherrelle']         0.750   \n",
       "...              ...                                ...           ...   \n",
       "102845        0.0265                                NaN         0.842   \n",
       "102846        0.0029                                NaN         0.333   \n",
       "102848        0.0294                                NaN         0.789   \n",
       "102854        0.2200                                NaN         0.681   \n",
       "102857        0.1490                                NaN         0.783   \n",
       "\n",
       "        duration_m  energy  explicit                      id  \\\n",
       "0         4.189183   0.614       0.0  0f6VT4JZxNc9DE2kUtqlNw   \n",
       "1         4.669817   0.785       0.0  3AK05RIuu30jqJ40cfOxLD   \n",
       "2         4.721217   0.511       0.0  0u2LbmKA70atp4J59QUnHW   \n",
       "3         4.049417   0.747       0.0  6vYGqxYCAcj4gfyrGcqN3i   \n",
       "4         5.156667   0.590       0.0  7DVTNkZRGqvFcKryWCuTZP   \n",
       "...            ...     ...       ...                     ...   \n",
       "102845    2.682533   0.715       1.0  2FVMbLuIxo0dz3KLXgN6Jh   \n",
       "102846    5.135333   0.927       0.0  5QTxFnGygVM4jFQiBovmRo   \n",
       "102848    2.868883   0.813       0.0  6qI0MU175Dk2DeoUjlrOpy   \n",
       "102854    4.139333   0.582       0.0  3JjnGLK8IxkNLvo8Lb3KOM   \n",
       "102857    2.729967   0.479       1.0  3JKgcAa7r07ocVWcV8bS0H   \n",
       "\n",
       "        instrumentalness  key  liveness  loudness  mode  \\\n",
       "0               0.000000  8.0    0.2850   -11.871   1.0   \n",
       "1               0.000000  2.0    0.1200    -4.701   0.0   \n",
       "2               0.000000  2.0    0.1490   -11.815   0.0   \n",
       "3               0.000000  0.0    0.3520    -4.620   0.0   \n",
       "4               0.000000  5.0    0.1150   -11.799   1.0   \n",
       "...                  ...  ...       ...       ...   ...   \n",
       "102845          0.055400  2.0    0.0831    -6.030   1.0   \n",
       "102846          0.000208  9.0    0.2970    -8.550   0.0   \n",
       "102848          0.000002  5.0    0.5190    -4.563   1.0   \n",
       "102854          0.000000  6.0    0.1190    -7.760   0.0   \n",
       "102857          0.000000  7.0    0.1010   -10.646   1.0   \n",
       "\n",
       "                             name popularity_level release_date  speechiness  \\\n",
       "0                     Arrepentida     Intermediate   1997-01-01       0.0542   \n",
       "1                 Me Tengo Que Ir     Intermediate   1996-01-10       0.0362   \n",
       "2                   Persona Ideal     Intermediate   1997-01-01       0.0329   \n",
       "3                Se Acabo El Amor     Intermediate   2008-01-01       0.0484   \n",
       "4       Never Knew Love Like This     Intermediate   1987-07-29       0.0346   \n",
       "...                           ...              ...          ...          ...   \n",
       "102845                         24             High   2020-03-02       0.0912   \n",
       "102846    (Don't Fear) The Reaper             High   1976-01-01       0.0733   \n",
       "102848                        911             High   2020-05-29       0.0374   \n",
       "102854                         18             High   2014-11-17       0.0313   \n",
       "102857                         21             High   2020-05-15       0.5410   \n",
       "\n",
       "          tempo  valence    year  \n",
       "0       110.929    0.895  1997.0  \n",
       "1        96.831    0.846  1996.0  \n",
       "2        96.856    0.840  1997.0  \n",
       "3       153.151    0.877  2008.0  \n",
       "4       104.101    0.803  1987.0  \n",
       "...         ...      ...     ...  \n",
       "102845  126.021    0.428  2020.0  \n",
       "102846  141.466    0.385  1976.0  \n",
       "102848  116.007    0.420  2020.0  \n",
       "102854  124.038    0.221  2014.0  \n",
       "102857  176.027    0.533  2020.0  \n",
       "\n",
       "[102147 rows x 19 columns]"
      ]
     },
     "execution_count": 14,
     "metadata": {},
     "output_type": "execute_result"
    }
   ],
   "source": [
    "df"
   ]
  },
  {
   "cell_type": "code",
   "execution_count": 15,
   "metadata": {},
   "outputs": [],
   "source": [
    "def feature_encoder(X,cols):\n",
    "    for c in cols:\n",
    "        lbl = LabelEncoder()\n",
    "        lbl.fit(list(X[c].values))\n",
    "        X[c]=lbl.transform(list(X[c].values))\n",
    "    return X"
   ]
  },
  {
   "cell_type": "code",
   "execution_count": 16,
   "metadata": {},
   "outputs": [],
   "source": [
    "df.drop(['name','id'],axis=1,inplace=True)"
   ]
  },
  {
   "cell_type": "code",
   "execution_count": 17,
   "metadata": {},
   "outputs": [],
   "source": [
    "cat_col = ['artists']\n",
    "df = feature_encoder(df,cat_col)\n",
    "X,y = df.drop('popularity_level',axis=1),df.popularity_level"
   ]
  },
  {
   "cell_type": "code",
   "execution_count": 18,
   "metadata": {},
   "outputs": [
    {
     "name": "stderr",
     "output_type": "stream",
     "text": [
      "C:\\Users\\Yousef\\Anaconda3\\envs\\spotify_model\\lib\\site-packages\\ipykernel_launcher.py:6: FutureWarning: Series.dt.weekofyear and Series.dt.week have been deprecated.  Please use Series.dt.isocalendar().week instead.\n",
      "  \n"
     ]
    }
   ],
   "source": [
    "def add_datepart(df,fieldname):\n",
    "    fld = df[fieldname]\n",
    "    targ_pre = re.sub('[Dd]ate$','',fieldname)\n",
    "    for n in ('Month','Week','Day','Dayofweek','Is_month_end','Is_month_start','Is_quarter_end',\n",
    "              'Is_quarter_start','Is_year_end','Is_year_start'):    \n",
    "        df[targ_pre+n]=getattr(fld.dt,n.lower())\n",
    "    df[targ_pre+'Elapsed']=(fld-fld.min()).dt.days\n",
    "    df.drop(fieldname,axis=1,inplace=True)\n",
    "add_datepart(X,'release_date')"
   ]
  },
  {
   "cell_type": "code",
   "execution_count": 19,
   "metadata": {},
   "outputs": [],
   "source": [
    "def MinMax_normalization(X):\n",
    "    MinMax = preprocessing.MinMaxScaler()\n",
    "    MinMax.fit(X)\n",
    "    X = pd.DataFrame(MinMax.transform(X),columns = X.columns)\n",
    "    return X\n",
    "X = MinMax_normalization(X)"
   ]
  },
  {
   "cell_type": "code",
   "execution_count": 20,
   "metadata": {},
   "outputs": [
    {
     "name": "stdout",
     "output_type": "stream",
     "text": [
      "Original dataset shape Counter({'Intermediate': 52652, 'Low': 52652, 'High': 52652})\n",
      "Resample dataset shape Counter({'Intermediate': 52652, 'Low': 52652, 'High': 52652})\n"
     ]
    }
   ],
   "source": [
    "smote = SMOTE()\n",
    "#X = df.drop(['popularity_level'],axis=1)\n",
    "#y = df['popularity_level']\n",
    "# fit predictor and target variable\n",
    "x_smote, y_smote = smote.fit_resample(X, y)\n",
    "X,y = x_smote,y_smote\n",
    "print('Original dataset shape', Counter(y))\n",
    "print('Resample dataset shape', Counter(y_smote))"
   ]
  },
  {
   "cell_type": "code",
   "execution_count": 21,
   "metadata": {},
   "outputs": [],
   "source": [
    "X_train,X_test,Y_train,Y_test = train_test_split(X,y,test_size=0.2,random_state=0,shuffle=True)\n",
    "X_train,X_valid,Y_train,Y_valid = train_test_split(X_train,Y_train,test_size = 0.12,random_state=0,shuffle=True)"
   ]
  },
  {
   "cell_type": "code",
   "execution_count": 22,
   "metadata": {},
   "outputs": [
    {
     "name": "stdout",
     "output_type": "stream",
     "text": [
      "(111200, 26)\n",
      "(15164, 26)\n",
      "(31592, 26)\n"
     ]
    }
   ],
   "source": [
    "print(X_train.shape)\n",
    "print(X_valid.shape)\n",
    "print(X_test.shape)\n",
    "classification_acc = []\n",
    "time_to_train = []\n",
    "time_to_test = []"
   ]
  },
  {
   "cell_type": "code",
   "execution_count": 23,
   "metadata": {},
   "outputs": [
    {
     "name": "stdout",
     "output_type": "stream",
     "text": [
      "[]\n",
      "[]\n",
      "[]\n"
     ]
    }
   ],
   "source": [
    "print(classification_acc)\n",
    "print(time_to_train)\n",
    "print(time_to_test)"
   ]
  },
  {
   "cell_type": "code",
   "execution_count": 128,
   "metadata": {},
   "outputs": [
    {
     "name": "stdout",
     "output_type": "stream",
     "text": [
      "Wall time: 36.4 s\n",
      "Accuracy on validation set = 0.83480611975732\n",
      "Accuracy on Test set = 0.8371739680931881\n"
     ]
    }
   ],
   "source": [
    "\n",
    "m = RandomForestClassifier(n_estimators = 100,min_samples_leaf = 3,max_features=np.log(2),n_jobs=-1)\n",
    "tic = time.time()\n",
    "%time m.fit(X_train,Y_train)\n",
    "toc = time.time()\n",
    "time_to_train.append(toc-tic)\n",
    "pred_train = m.predict(X_train)\n",
    "pred_valid = m.predict(X_valid)\n",
    "print(\"Accuracy on validation set = {acc}\".format(acc = m.score(X_valid,Y_valid)))\n",
    "start = time.time()\n",
    "acc_on_test = m.score(X_test,Y_test)\n",
    "end = time.time()\n",
    "time_to_test.append(end-start)\n",
    "print(\"Accuracy on Test set = \"+str(acc_on_test))\n",
    "classification_acc.append(acc_on_test)"
   ]
  },
  {
   "cell_type": "code",
   "execution_count": 129,
   "metadata": {},
   "outputs": [
    {
     "name": "stdout",
     "output_type": "stream",
     "text": [
      "Accuracy on validation set = 0.8919150619889211\n",
      "Accuracy on Test set = {acc} 0.8940554570777413\n"
     ]
    }
   ],
   "source": [
    "KNN = KNeighborsClassifier(n_neighbors=3)\n",
    "tic = time.time()\n",
    "KNN.fit(X,y)\n",
    "toc = time.time()\n",
    "time_to_train.append(toc-tic)\n",
    "print(\"Accuracy on validation set = {acc}\".format(acc = KNN.score(X_valid,Y_valid)))\n",
    "start = time.time()\n",
    "acc_on_test = KNN.score(X_test,Y_test)\n",
    "end = time.time()\n",
    "time_to_test.append(end-start)\n",
    "print(\"Accuracy on Test set = {acc} \"+str(acc_on_test))\n",
    "classification_acc.append(acc_on_test)"
   ]
  },
  {
   "cell_type": "code",
   "execution_count": null,
   "metadata": {},
   "outputs": [
    {
     "name": "stderr",
     "output_type": "stream",
     "text": [
      "C:\\Users\\Yousef\\Anaconda3\\envs\\spotify_model\\lib\\site-packages\\xgboost\\sklearn.py:892: UserWarning: The use of label encoder in XGBClassifier is deprecated and will be removed in a future release. To remove this warning, do the following: 1) Pass option use_label_encoder=False when constructing XGBClassifier object; and 2) Encode your labels (y) as integers starting with 0, i.e. 0, 1, 2, ..., [num_class - 1].\n",
      "  warnings.warn(label_encoder_deprecation_msg, UserWarning)\n"
     ]
    },
    {
     "name": "stdout",
     "output_type": "stream",
     "text": [
      "[14:22:12] WARNING: C:/Users/Administrator/workspace/xgboost-win64_release_1.3.0/src/learner.cc:1061: Starting in XGBoost 1.3.0, the default evaluation metric used with the objective 'multi:softprob' was changed from 'merror' to 'mlogloss'. Explicitly set eval_metric if you'd like to restore the old behavior.\n"
     ]
    }
   ],
   "source": [
    "tic = time.time()\n",
    "%time XGB = XGBClassifier(n_estimators=500,learning_rate=0.1,max_depth = 7,n_jobs=-1).fit(X,y)\n",
    "toc = time.time()\n",
    "time_to_train.append(toc-tic)\n",
    "print(\"Accuracy on Validation set = {acc}\".format(acc = XGB.score(X_valid,Y_valid)))\n",
    "start = time.time()\n",
    "acc_on_test = XGB.score(X_test,Y_test)\n",
    "end = time.time()\n",
    "time_to_test.append(end-start)\n",
    "print(\"Accuracy on Test set = \"+str(XGB.score(X_test,Y_test)))\n",
    "classification_acc.append(acc_on_test)"
   ]
  },
  {
   "cell_type": "code",
   "execution_count": 131,
   "metadata": {
    "scrolled": true
   },
   "outputs": [
    {
     "data": {
      "text/plain": [
       "<sklearn.metrics._plot.confusion_matrix.ConfusionMatrixDisplay at 0x21389e94b88>"
      ]
     },
     "execution_count": 131,
     "metadata": {},
     "output_type": "execute_result"
    },
    {
     "data": {
      "image/png": "[encoded data removed]",
      "text/plain": [
       "<Figure size 432x288 with 2 Axes>"
      ]
     },
     "metadata": {
      "needs_background": "light"
     },
     "output_type": "display_data"
    }
   ],
   "source": [
    "cm = confusion_matrix(XGB.predict(X_test),Y_test)\n",
    "disp = ConfusionMatrixDisplay(confusion_matrix=cm,display_labels=XGB.classes_)\n",
    "disp.plot()"
   ]
  },
  {
   "cell_type": "code",
   "execution_count": 132,
   "metadata": {},
   "outputs": [
    {
     "data": {
      "image/png": "[encoded data removed]",
      "text/plain": [
       "<Figure size 432x288 with 1 Axes>"
      ]
     },
     "metadata": {
      "needs_background": "light"
     },
     "output_type": "display_data"
    }
   ],
   "source": [
    "fig = plt.figure()\n",
    "ax = fig.add_axes([0,0,1,1])\n",
    "models = ['RANDOM FOREST', 'KNN', 'XGB']\n",
    "ax.bar(models,classification_acc)\n",
    "plt.title('Classifiers accuracies on Test set')\n",
    "plt.show()"
   ]
  },
  {
   "cell_type": "code",
   "execution_count": 133,
   "metadata": {},
   "outputs": [
    {
     "data": {
      "image/png": "[encoded data removed]",
      "text/plain": [
       "<Figure size 432x288 with 1 Axes>"
      ]
     },
     "metadata": {
      "needs_background": "light"
     },
     "output_type": "display_data"
    }
   ],
   "source": [
    "fig = plt.figure()\n",
    "ax = fig.add_axes([0,0,1,1])\n",
    "models = ['RANDOM FOREST', 'KNN', 'XGB']\n",
    "ax.bar(models,time_to_train)\n",
    "plt.title('Time to train Classifiers on Test set')\n",
    "plt.show()"
   ]
  },
  {
   "cell_type": "code",
   "execution_count": 134,
   "metadata": {},
   "outputs": [
    {
     "data": {
      "image/png": "[encoded data removed]",
      "text/plain": [
       "<Figure size 432x288 with 1 Axes>"
      ]
     },
     "metadata": {
      "needs_background": "light"
     },
     "output_type": "display_data"
    }
   ],
   "source": [
    "fig = plt.figure()\n",
    "ax = fig.add_axes([0,0,1,1])\n",
    "models = ['RANDOM FOREST', 'KNN', 'XGB']\n",
    "ax.bar(models,time_to_test)\n",
    "plt.title('Time to test Classifiers on Test set')\n",
    "plt.show()"
   ]
  },
  {
   "cell_type": "code",
   "execution_count": 69,
   "metadata": {},
   "outputs": [],
   "source": [
    "#%time svm = OneVsRestClassifier(SVC(kernel='linear',C=0.1)).fit(X,y)\n",
    "#print(\"Accuracy on Training set = {acc}\".format(acc = svm.score(X_train,Y_train)))#\n",
    "#print(\"Accuracy on validation set = \"+str(svm.score(X_valid,Y_valid)))"
   ]
  },
  {
   "cell_type": "code",
   "execution_count": null,
   "metadata": {},
   "outputs": [],
   "source": [
    "filename = \"C:\\\\Users\\\\Yousef\\\\Desktop\\\\ml\\\\saved_classification_models\\\\XGB.pkl\"\n",
    "pickle_rick.dump(XGB,open(filename,'wb'))"
   ]
  },
  {
   "cell_type": "code",
   "execution_count": null,
   "metadata": {},
   "outputs": [],
   "source": []
  },
  {
   "cell_type": "code",
   "execution_count": null,
   "metadata": {},
   "outputs": [],
   "source": [
    "def test_script(filepath,modelpath):\n",
    "    test_data = pd.read_csv(filepath,parse_dates=['release_date'])\n",
    "    test_data = test_data[~test_data.duplicated()==1]\n",
    "    fill_missing_values(test_data)\n",
    "    test_data = duration_to_minutes(test_data)\n",
    "    test_data.drop(['name','id'],axis=1,inplace=True)\n",
    "    test_data = feature_encoder(test_data,['artists'])\n",
    "    testX,testY = test_data.drop('popularity_level',axis=1),test_data.popularity_level\n",
    "    add_datepart(testX,'release_date')\n",
    "    testX = MinMax_normalization(testX)\n",
    "    m = pickle_rick.load(open(modelpath, 'rb'))\n",
    "    print(\"Accuracy on test set is {acc}\".format(acc=m.score(testX,testY)))"
   ]
  },
  {
   "cell_type": "code",
   "execution_count": null,
   "metadata": {},
   "outputs": [],
   "source": [
    "test_file_path = \"C:\\\\Users\\\\Yousef\\\\Desktop\\\\ml\\\\ML_Dataset\\\\test_set\\\\spotify_testing_classification.csv\"\n",
    "model_file_path = \"C:\\\\Users\\\\Yousef\\\\Desktop\\\\ml\\\\saved_classification_models\\\\XGB.pkl\"\n",
    "test_script(test_file_path,model_file_path)"
   ]
  },
  {
   "cell_type": "code",
   "execution_count": null,
   "metadata": {},
   "outputs": [],
   "source": []
  }
 ],
 "metadata": {
  "kernelspec": {
   "display_name": "Python 3",
   "language": "python",
   "name": "python3"
  },
  "language_info": {
   "codemirror_mode": {
    "name": "ipython",
    "version": 3
   },
   "file_extension": ".py",
   "mimetype": "text/x-python",
   "name": "python",
   "nbconvert_exporter": "python",
   "pygments_lexer": "ipython3",
   "version": "3.7.9"
  }
 },
 "nbformat": 4,
 "nbformat_minor": 4
}
